{
 "cells": [
  {
   "cell_type": "markdown",
   "id": "e8601f51-e36a-4717-a4ac-2ac1af95da4e",
   "metadata": {},
   "source": [
    "Exercise 2: Create markdown cell with title of the notebook\n",
    "\n",
    "Create a markdown cell with the title Data Science Tools and Ecosystem using H1 style heading.\n",
    "\n",
    "Take a screenshot of the markdown cell and name it as 2-title.png"
   ]
  },
  {
   "cell_type": "markdown",
   "id": "8f5921c1-d097-419b-b3c0-f82fdfed62c0",
   "metadata": {},
   "source": [
    "# Data Science Tools and Ecosystem"
   ]
  },
  {
   "cell_type": "markdown",
   "id": "d6c9dad8-a234-4d09-85ac-27b735dca4a1",
   "metadata": {},
   "source": [
    "Exercise 3 - Create a markdown cell for an introduction\n",
    "\n",
    "Write an introductory sentence about the notebook such as the follows:\n",
    "\n",
    "In this notebook, Data Science Tools and Ecosystem are summarized.\n",
    "\n",
    "Take a screenshot of the markdown cell and name it as 3-intro.png"
   ]
  },
  {
   "cell_type": "markdown",
   "id": "4d112af0-0528-4e1f-a275-179edf43b894",
   "metadata": {},
   "source": [
    "In this notebook, Data Science Tools and Ecosystem are summarized."
   ]
  },
  {
   "cell_type": "markdown",
   "id": "6e73987b-9953-4257-881c-215a361328db",
   "metadata": {},
   "source": [
    "Exercise 10 - Insert a markdown cell to list Objectives\n",
    "\n",
    "Below the introduction cell created in Exercise 3, insert a new markdown cell to list the objectives that this notebook covered (i.e. some of the key takeaways from the course). In this new cell start with an introductory line titled: Objectives: in bold font. Then using an unordered list (bullets) indicate 3 to 5 items covered in this notebook, such as List popular languages for Data Science.\n",
    "\n",
    "Take a screenshot of the markdown cell and name it as 10-objectives.png"
   ]
  },
  {
   "cell_type": "markdown",
   "id": "6086c84d-ae74-491c-a22b-35b94ae00c9a",
   "metadata": {},
   "source": [
    "**Objectives:**\n",
    "- List popular languages for Data Science\n",
    "- List commonly used libraries for Data Science\n",
    "- List popular Data Science Tools"
   ]
  },
  {
   "cell_type": "markdown",
   "id": "a15b08ce-fcde-4430-8ed1-f01cf6cd3175",
   "metadata": {},
   "source": [
    "Exercise 4 - Create a markdown cell to list data science languages\n",
    "\n",
    "Start the cell with an overview line such as:\n",
    "\n",
    "Some of the popular languages that Data Scientists use are:\n",
    "Then create an ordered list (i.e. numbered) listing 3 (or more) commonly used languages for data science.\n",
    "\n",
    "Take a screenshot of the markdown cell and name it as 4-dslanguages.png"
   ]
  },
  {
   "cell_type": "markdown",
   "id": "9d991a51-f19c-4d63-9439-837534aaf039",
   "metadata": {},
   "source": [
    "Some of the popular languages that Data Scientists use are:\n",
    "1. Python\n",
    "2. R\n",
    "3. SQL"
   ]
  },
  {
   "cell_type": "markdown",
   "id": "323a97eb-9c10-4356-9b03-38c05147fcf3",
   "metadata": {},
   "source": [
    "Exercise 5 - Create a markdown cell to list data science libraries\n",
    "\n",
    "Add an overview line to the cell like:\n",
    "\n",
    "Some of the commonly used libraries used by Data Scientists include:\n",
    "Below this line add an ordered list listing 3 (or more) commonly used libraries in data science.\n",
    "\n",
    "Take a screenshot of the markdown cell and name it as 5-dslibraries.png"
   ]
  },
  {
   "cell_type": "markdown",
   "id": "6ab593ca-c94e-4bac-a139-8435ed07fe70",
   "metadata": {},
   "source": [
    "Some of the commonly used libraries used by Data Scientists include:\n",
    "1. NumPy\n",
    "2. Pandas\n",
    "3. TensorFlow"
   ]
  },
  {
   "cell_type": "markdown",
   "id": "5b02a494-0968-4887-b20e-75bd6f117f3e",
   "metadata": {},
   "source": [
    "Exercise 6 - Create a markdown cell with a table of Data Science tools\n",
    "\n",
    "Create a single column table in this cell with the first row containing the header Data Science Tools. The subsequent three rows in the table should indicate three development environment open source tools used in data science.\n",
    "\n",
    "Take a screenshot of the markdown cell and name it as 6-dstools.png\n",
    "\n",
    "Hint: Refer to Lab: Using Markdowns in Jupyter Notebooks to create a table."
   ]
  },
  {
   "cell_type": "markdown",
   "id": "ff267479-8007-4fde-b181-fe95b344343b",
   "metadata": {},
   "source": [
    "|Data Science Tools|\n",
    "|---|\n",
    "|Jupyter Notebook|\n",
    "|Rstudio|\n",
    "|Apache Zeppelin|"
   ]
  },
  {
   "cell_type": "markdown",
   "id": "0f565d67-e978-4793-a5dc-3bfad776a3f4",
   "metadata": {},
   "source": [
    "Exercise 7 - Create a markdown cell introducing arithmetic expression examples\n",
    "\n",
    "Add a line in this cell with H3 style heading with text like:\n",
    "\n",
    "Below are a few examples of evaluating arithmetic expressions in Python.\n",
    "\n",
    "Take a screenshot of the markdown cell and name it as 7-introarithmetic.png"
   ]
  },
  {
   "cell_type": "code",
   "execution_count": null,
   "id": "0dc202f8-03e1-4f50-b902-d5f8a6b36ace",
   "metadata": {},
   "outputs": [],
   "source": []
  },
  {
   "cell_type": "markdown",
   "id": "5a5492f7-d54c-4a17-a59d-32ff60faa957",
   "metadata": {},
   "source": [
    "### Below are a few examples of evaluating arithmetic expressions in Python"
   ]
  },
  {
   "cell_type": "markdown",
   "id": "3fe60ba8-c861-4160-9fd6-b8b25bfdd8dd",
   "metadata": {},
   "source": [
    "Exercise 8 - Create a code cell to multiply and add numbers\n",
    "\n",
    "In this code cell evaluate the expression (3*4)+5.\n",
    "Insert a comment line before the expression to explain the operation e.g.  This a simple arithmetic expression to mutiply then add integers.\n",
    "Then execute the cell to ensure the expression returns the expected output of 17.\n",
    "\n",
    "Take a screenshot of the code cell with output and name it as 8-multiplyandaddintegers.png"
   ]
  },
  {
   "cell_type": "markdown",
   "id": "e625c830-f5aa-41e2-a7f1-a3da40686a2b",
   "metadata": {},
   "source": [
    "This a simple arithmetic expression to mutiply then add integers"
   ]
  },
  {
   "cell_type": "code",
   "execution_count": 2,
   "id": "f8d4e848-5fca-40c7-8fa8-be67cf3dd900",
   "metadata": {},
   "outputs": [
    {
     "data": {
      "text/plain": [
       "17"
      ]
     },
     "execution_count": 2,
     "metadata": {},
     "output_type": "execute_result"
    }
   ],
   "source": [
    "(3*4)+5"
   ]
  },
  {
   "cell_type": "markdown",
   "id": "716317fc-bc89-480b-ab67-84739982310c",
   "metadata": {},
   "source": [
    "Exercise 9 - Create a code cell to convert minutes to hours\n",
    "\n",
    "In this code cell write an expression that converts 200 minutes into hours.\n",
    "Insert a comment line before the expression to explain the operation e.g.  This will convert 200 minutes to hours by diving by 60.\n",
    "Run the cell to evaluate the expression.\n",
    "\n",
    "Take a screenshot of the code cell with output and name it as 9-hourstominutes.png"
   ]
  },
  {
   "cell_type": "markdown",
   "id": "d4728bcf-f8fc-4d93-8080-34438227a95e",
   "metadata": {},
   "source": [
    "This will convert 200 minutes to hours by diving by 60"
   ]
  },
  {
   "cell_type": "code",
   "execution_count": 4,
   "id": "3cf38fee-f865-40cc-817a-5d2603f74360",
   "metadata": {},
   "outputs": [
    {
     "data": {
      "text/plain": [
       "3.3333333333333335"
      ]
     },
     "execution_count": 4,
     "metadata": {},
     "output_type": "execute_result"
    }
   ],
   "source": [
    "200/60"
   ]
  },
  {
   "cell_type": "markdown",
   "id": "769c5298-f347-40d3-b03d-e1cacdaf9a2a",
   "metadata": {},
   "source": [
    "Exercise 11 - Create a markdown cell to indicate the Author's name\n",
    "\n",
    "In this markdown cell markdown cell include the following text Author in H2 style heading. Include your name as regular text below the word Author.\n",
    "\n",
    "Take a screenshot of the markdown cell and name it as 11-authordetails.png"
   ]
  },
  {
   "cell_type": "markdown",
   "id": "c0aa9654-e8cd-4aa2-926a-a9984cd45f87",
   "metadata": {},
   "source": [
    "## Author\n",
    "HsienPin Chiu"
   ]
  },
  {
   "cell_type": "code",
   "execution_count": null,
   "id": "5874701b-0a9f-476a-b3c9-9957d0e7602a",
   "metadata": {},
   "outputs": [],
   "source": []
  }
 ],
 "metadata": {
  "kernelspec": {
   "display_name": "Python 3 (ipykernel)",
   "language": "python",
   "name": "python3"
  },
  "language_info": {
   "codemirror_mode": {
    "name": "ipython",
    "version": 3
   },
   "file_extension": ".py",
   "mimetype": "text/x-python",
   "name": "python",
   "nbconvert_exporter": "python",
   "pygments_lexer": "ipython3",
   "version": "3.12.8"
  }
 },
 "nbformat": 4,
 "nbformat_minor": 5
}
